{
 "cells": [
  {
   "cell_type": "raw",
   "id": "e19cb830",
   "metadata": {},
   "source": [
    "---\n",
    "title: L05_RBasics.Rmd\n",
    "output:\n",
    "  word_document: default\n",
    "  pdf_document: default\n",
    "  html_document: default\n",
    "editor_options:\n",
    "  markdown:\n",
    "    wrap: 72\n",
    "---"
   ]
  },
  {
   "cell_type": "markdown",
   "id": "251b61c8",
   "metadata": {},
   "source": [
    "Github repository is here: <https://github.com/ong8181/DASC3240>\n",
    "\n",
    "# R - Basics and more\n",
    "\n",
    "The contents basically follow this website\n",
    "(<https://github.com/datacarpentry/datacarpentry.github.io>), but some\n",
    "contents are omitted/modified so that they fit DASC 3240.\n",
    "\n",
    "## References\n",
    "\n",
    "-   Data Analysis and Visualization in R for Ecologists:\n",
    "    <https://datacarpentry.org/R-ecology-lesson>\n",
    "-   R basics:\n",
    "    <https://datacarpentry.org/R-ecology-lesson/introduction-r-rstudio.html>\n",
    "-   Zenodo archive: <http://doi.org/10.5281/zenodo.3264888>\n",
    "-   License:\n",
    "    <https://github.com/datacarpentry/R-ecology-lesson?tab=License-1-ov-file>\n",
    "\n",
    "# Contents\n",
    "\n",
    "1.  Creating objects in R\n",
    "2.  Vectors and data types\n",
    "3.  Missing data\n",
    "4.  `for` and `if`\n",
    "\n",
    "# 1. Creating objects in R\n",
    "\n",
    "You can get output from R simply by typing math in the console:"
   ]
  },
  {
   "cell_type": "code",
   "execution_count": null,
   "id": "5030731d",
   "metadata": {},
   "outputs": [],
   "source": [
    "3 + 5"
   ]
  },
  {
   "cell_type": "code",
   "execution_count": null,
   "id": "59df4411",
   "metadata": {},
   "outputs": [],
   "source": [
    "12/7"
   ]
  },
  {
   "cell_type": "markdown",
   "id": "f060b21f",
   "metadata": {},
   "source": [
    "However, to do useful and interesting things, we need to assign values\n",
    "to objects. To create an object, we need to give it a name followed by\n",
    "the assignment operator `<-` (or you may use `=`), and the value we want\n",
    "to give it:"
   ]
  },
  {
   "cell_type": "code",
   "execution_count": null,
   "id": "87123f5d",
   "metadata": {},
   "outputs": [],
   "source": [
    "weight_kg <- 55"
   ]
  },
  {
   "cell_type": "markdown",
   "id": "6ac7de6d",
   "metadata": {},
   "source": [
    "`<-` is the assignment operator we will use in this course. It assigns\n",
    "values on the right to objects on the left. So, after executing\n",
    "`x <- 3`, the value of `x` is `3`. For historical reasons, you can also\n",
    "use = for assignments, but not in every context. Because of the slight\n",
    "differences in syntax, it is good practice to always use `<-` for\n",
    "assignments. You may use a shortcut (e.g., \"Alt\" + \"-\", or \"Option\" +\n",
    "\"-\") to type `<-` (depends on your platform).\n",
    "\n",
    "Objects can be given almost any name such as `x`, `current_temperature`,\n",
    "or `subject_id`. Here are some further guidelines on naming objects:\n",
    "\n",
    "-   You want your object names to be explicit and not too long.\n",
    "-   **They cannot start with a number** (`2x` is not valid, but `x2`\n",
    "    is).\n",
    "-   R is **case sensitive**, so for example, `weight_kg` is different\n",
    "    from `Weight_kg`.\n",
    "-   There are some names that cannot be used because they are the names\n",
    "    of fundamental functions in R (e.g., `if`, `else`, for, see\n",
    "    [here](https://stat.ethz.ch/R-manual/R-devel/library/base/html/Reserved.html)\n",
    "    for a complete list).\n",
    "-   It’s best to avoid dots (`.`) within names. Many function names in R\n",
    "    itself have them and dots also have a special meaning (methods) in R\n",
    "    and other programming languages. I recommend to use underbar (`_`)\n",
    "    instead.\n",
    "-   It is recommended to use nouns for object names and verbs for\n",
    "    function names.\n",
    "\n",
    "When assigning a value to an object, R does not print anything. You can\n",
    "force R to print the value by using parentheses or by typing the object\n",
    "name:"
   ]
  },
  {
   "cell_type": "code",
   "execution_count": null,
   "id": "f0edfbd7",
   "metadata": {},
   "outputs": [],
   "source": [
    "weight_kg <- 55    # doesn't print anything\n",
    "(weight_kg <- 55)  # but putting parenthesis around the call prints the value of `weight_kg`\n",
    "weight_kg          # and so does typing the name of the object"
   ]
  },
  {
   "cell_type": "markdown",
   "id": "f99327d9",
   "metadata": {},
   "source": [
    "Assigning a value to one object does not change the values of other\n",
    "objects. For example, let’s store the animal’s weight in pounds in a new\n",
    "object, `weight_lb`:"
   ]
  },
  {
   "cell_type": "code",
   "execution_count": null,
   "id": "fde7ed21",
   "metadata": {},
   "outputs": [],
   "source": [
    "weight_lb <- 2.2 * weight_kg"
   ]
  },
  {
   "cell_type": "markdown",
   "id": "b2438bee",
   "metadata": {},
   "source": [
    "and then change `weight_kg` to 100."
   ]
  },
  {
   "cell_type": "code",
   "execution_count": null,
   "id": "af99e116",
   "metadata": {},
   "outputs": [],
   "source": [
    "weight_kg <- 100"
   ]
  },
  {
   "cell_type": "markdown",
   "id": "38af55cd",
   "metadata": {},
   "source": [
    "What do you think is the current content of the object `weight_lb`?\n",
    "`126.5` or `220`?\n",
    "\n",
    "### Comments\n",
    "\n",
    "The comment character in R is \"\\#\". Anything to the right of a \"\\#\" in a\n",
    "script will be ignored by R. **It is useful to leave notes and\n",
    "explanations in your scripts (because you will forget why you wrote the\n",
    "code!)**. For convenience, RStudio provides a keyboard shortcut to\n",
    "comment or uncomment a paragraph: after selecting the lines you want to\n",
    "comment, press at the same time on your keyboard **\"Ctrl + Shift + C\"**.\n",
    "If you only want to comment out one line, you can put the cursor at any\n",
    "location of that line (i.e. no need to select the whole line), then\n",
    "press Ctrl + Shift + C.\n",
    "\n",
    "### Functions and their arguments\n",
    "\n",
    "Functions are “canned scripts” that automate more complicated sets of\n",
    "commands including operations assignments, etc. Many functions are\n",
    "predefined, or can be made available by importing *R packages* (more on\n",
    "that later). A function usually takes one or more inputs called\n",
    "arguments. Functions often (but not always) return a value. A typical\n",
    "example would be the function `sqrt()`. An example of a function call\n",
    "is:"
   ]
  },
  {
   "cell_type": "code",
   "execution_count": null,
   "id": "12f513da",
   "metadata": {},
   "outputs": [],
   "source": [
    "sqrt(10)"
   ]
  },
  {
   "cell_type": "markdown",
   "id": "9ad42b37",
   "metadata": {},
   "source": [
    "Let’s try a function that can take multiple arguments: `round()`."
   ]
  },
  {
   "cell_type": "code",
   "execution_count": null,
   "id": "fa3078cd",
   "metadata": {},
   "outputs": [],
   "source": [
    "round(3.14159)"
   ]
  },
  {
   "cell_type": "markdown",
   "id": "eaac10fb",
   "metadata": {},
   "source": [
    "Here, we’ve called `round()` with just one argument, `3.14159`, and it\n",
    "has returned the value `3`. That’s because the default is to round to\n",
    "the nearest whole number. We can use `args(round)` or `?round` to find\n",
    "more information."
   ]
  },
  {
   "cell_type": "code",
   "execution_count": null,
   "id": "959f51ad",
   "metadata": {},
   "outputs": [],
   "source": [
    "args(round)"
   ]
  },
  {
   "cell_type": "code",
   "execution_count": null,
   "id": "ae580ffb",
   "metadata": {},
   "outputs": [],
   "source": [
    "?round"
   ]
  },
  {
   "cell_type": "markdown",
   "id": "db8f1e34",
   "metadata": {},
   "source": [
    "We see that if we want a different number of digits, we can type\n",
    "`digits = 2` or however many we want."
   ]
  },
  {
   "cell_type": "code",
   "execution_count": null,
   "id": "762a2bc3",
   "metadata": {},
   "outputs": [],
   "source": [
    "round(3.14159, digits = 2)"
   ]
  },
  {
   "cell_type": "markdown",
   "id": "d25a0f70",
   "metadata": {},
   "source": [
    "If you provide the arguments in the exact same order as they are defined\n",
    "you don’t have to name them:"
   ]
  },
  {
   "cell_type": "code",
   "execution_count": null,
   "id": "2823304e",
   "metadata": {},
   "outputs": [],
   "source": [
    "round(3.14159, 2)"
   ]
  },
  {
   "cell_type": "markdown",
   "id": "df92a8bc",
   "metadata": {},
   "source": [
    "And if you do name the arguments, you can switch their order:"
   ]
  },
  {
   "cell_type": "code",
   "execution_count": null,
   "id": "08986c75",
   "metadata": {},
   "outputs": [],
   "source": [
    "round(digits = 2, x = 3.14159)"
   ]
  },
  {
   "cell_type": "markdown",
   "id": "23fcf46f",
   "metadata": {},
   "source": [
    "# 2. Vectors and data types\n",
    "\n",
    "A vector is the most common and basic data type in R, and is pretty much\n",
    "the workhorse of R. A vector is composed by a series of values, which\n",
    "can be either numbers or characters. We can assign a series of values to\n",
    "a vector using the `c()` function (perhaps it stands for \"combine\" or\n",
    "\"concatenate\"). For example we can create a vector of animal weights and\n",
    "assign it to a new object `weight_g`:"
   ]
  },
  {
   "cell_type": "code",
   "execution_count": null,
   "id": "856ea304",
   "metadata": {},
   "outputs": [],
   "source": [
    "weight_g <- c(50, 60, 65, 82)\n",
    "weight_g"
   ]
  },
  {
   "cell_type": "markdown",
   "id": "8e8caaed",
   "metadata": {},
   "source": [
    "A vector can also contain characters:"
   ]
  },
  {
   "cell_type": "code",
   "execution_count": null,
   "id": "d8d1a963",
   "metadata": {},
   "outputs": [],
   "source": [
    "animals <- c(\"mouse\", \"rat\", \"dog\")\n",
    "animals"
   ]
  },
  {
   "cell_type": "markdown",
   "id": "b11872dd",
   "metadata": {},
   "source": [
    "You can check the length and class (= data type) using `length()` and\n",
    "`class()`, respectively."
   ]
  },
  {
   "cell_type": "code",
   "execution_count": null,
   "id": "a7f5f8ab",
   "metadata": {},
   "outputs": [],
   "source": [
    "length(weight_g)\n",
    "length(animals)\n",
    "class(weight_g)\n",
    "class(animals)"
   ]
  },
  {
   "cell_type": "markdown",
   "id": "00a63bac",
   "metadata": {},
   "source": [
    "The function `str()` provides an overview of the structure of an object\n",
    "and its elements. It is a useful function when working with large and\n",
    "complex objects:"
   ]
  },
  {
   "cell_type": "code",
   "execution_count": null,
   "id": "8e02c83d",
   "metadata": {},
   "outputs": [],
   "source": [
    "str(weight_g)\n",
    "str(animals)"
   ]
  },
  {
   "cell_type": "markdown",
   "id": "44879403",
   "metadata": {},
   "source": [
    "An **atomic vector** is the simplest R data type and is a linear vector\n",
    "of a single type. Above, we saw 2 of the 6 main atomic vector types that\n",
    "R uses: **\"character\"** and **\"numeric\"** (or **\"double\"**). These are\n",
    "the basic building blocks that all R objects are built from. The other 4\n",
    "atomic vector types are: - **\"logical\"** for `TRUE` and `FALSE` (the\n",
    "boolean data type) - **\"integer\"** for integer numbers (e.g., `2L`, the\n",
    "`L` indicates to R that it’s an integer) - **\"complex\"** to represent\n",
    "complex numbers with real and imaginary parts (e.g., `1 + 4i`) and\n",
    "that’s all we’re going to say about them - **\"raw\"** for bitstreams that\n",
    "we won’t discuss further\n",
    "\n",
    "You can check the type of your vector using the `typeof()` function and\n",
    "inputting your vector as the argument.\n",
    "\n",
    "Vectors are one of the many **data structures** that R uses. Other\n",
    "important ones are lists (**list**), matrices (**matrix**), data frames\n",
    "(**data.frame**), factors (**factor**) and arrays (**array**).\n",
    "\n",
    "### Challenge\n",
    "\n",
    "-   Please make a vector that contains multiple types (e.g., \"numeric\"\n",
    "    and \"character\") and check what happens if you apply `class()` or\n",
    "    `typeof()` to the vector.\n",
    "\n",
    "# 3. Subsetting vectors\n",
    "\n",
    "If we want to extract one or several values from a vector, we must\n",
    "provide one or several indices in square brackets. For instance:"
   ]
  },
  {
   "cell_type": "code",
   "execution_count": null,
   "id": "b687e039",
   "metadata": {},
   "outputs": [],
   "source": [
    "animals <- c(\"mouse\", \"rat\", \"dog\", \"cat\")\n",
    "animals[2]"
   ]
  },
  {
   "cell_type": "markdown",
   "id": "9395031b",
   "metadata": {},
   "source": [
    "**NOTE**: How to extract value(s) from a vector is different from\n",
    "Python: - In R, **indexing starts from 1**, which means that the first\n",
    "element in a vector is assigned the index 1, the second element is\n",
    "assigned the index 2, and so on. For example, if you have a vector `x`\n",
    "with five elements, the first element is `x[1]`, the second element is\n",
    "`x[2]`, and so on. - In Python, **indexing starts from 0**, which means\n",
    "that the first element in a list is assigned the index 0, the second\n",
    "element is assigned the index 1, and so on. For example, if you have a\n",
    "list `my_list` with five elements, the first element is `my_list[0]`,\n",
    "the second element is `my_list[1]`, and so on.\n",
    "\n",
    "Other ways to access elements in a vector are as follows:"
   ]
  },
  {
   "cell_type": "code",
   "execution_count": null,
   "id": "63c20a5d",
   "metadata": {},
   "outputs": [],
   "source": [
    "animals[c(3, 2)]\n",
    "animals[3:2]\n",
    "more_animals <- animals[c(1, 2, 3, 2, 1, 4)]\n",
    "more_animals\n",
    "animals[1:4] # \":\" means numbers from 1 to 4 (= 1, 2, 3, and 4)"
   ]
  },
  {
   "cell_type": "markdown",
   "id": "fc3d660f",
   "metadata": {},
   "source": [
    "### Conditional subsetting\n",
    "\n",
    "Another common way of subsetting is by using a logical vector. `TRUE`\n",
    "will select the element with the same index, while `FALSE` will not:"
   ]
  },
  {
   "cell_type": "code",
   "execution_count": null,
   "id": "83b6479a",
   "metadata": {},
   "outputs": [],
   "source": [
    "weight_g <- c(21, 34, 39, 54, 55)\n",
    "weight_g[c(TRUE, FALSE, FALSE, TRUE, TRUE)]"
   ]
  },
  {
   "cell_type": "markdown",
   "id": "46fdd9cf",
   "metadata": {},
   "source": [
    "Typically, these logical vectors are not typed by hand, but are the\n",
    "output of other functions or logical tests. For instance, if you wanted\n",
    "to select only the values above 50:"
   ]
  },
  {
   "cell_type": "code",
   "execution_count": null,
   "id": "42c1419a",
   "metadata": {},
   "outputs": [],
   "source": [
    "# This will return logicals with TRUE for the indices that meet the condition\n",
    "weight_g > 50\n",
    "## so we can use this to select only the values above 50\n",
    "weight_g[weight_g > 50]"
   ]
  },
  {
   "cell_type": "markdown",
   "id": "ebed2f98",
   "metadata": {},
   "source": [
    "You can combine multiple tests using `&` (both conditions are true, AND)\n",
    "or `|` (at least one of the conditions is true, OR):"
   ]
  },
  {
   "cell_type": "code",
   "execution_count": null,
   "id": "ba95c1bf",
   "metadata": {},
   "outputs": [],
   "source": [
    "weight_g[weight_g > 30 & weight_g < 50]\n",
    "weight_g[weight_g <= 30 | weight_g == 55]"
   ]
  },
  {
   "cell_type": "markdown",
   "id": "97b943f8",
   "metadata": {},
   "source": [
    "The list of logical operators is as follows: - A `&` B: A and B - A `|`\n",
    "B: A or B - A `>` B: A is more than B? - A `<` B: A is less than B? - A\n",
    "`>=` B: A is more than or equal to B? - A `<=` B: A is less than or\n",
    "equal to B? - A `==` B: A is B? - A `!=` B: A is not B? - A `%in%` B:\n",
    "Any of the elements of A are found in B?\n",
    "\n",
    "### Challenge\n",
    "\n",
    "-   Try typing `\"four\" > \"five\"` in R console. Check the result and\n",
    "    figure out why you get the results.\n",
    "\n",
    "# 4. Missing data\n",
    "\n",
    "As R was designed to analyze datasets, it includes the concept of\n",
    "missing data (which is uncommon in other programming languages). Missing\n",
    "data are represented in vectors as `NA`.\n",
    "\n",
    "When doing operations on numbers (e.g., `sum()` function), most\n",
    "functions will return `NA` if the data you are working with include\n",
    "missing values. This feature makes it harder to overlook the cases where\n",
    "you are dealing with missing data. You can add the argument\n",
    "`na.rm = TRUE` to calculate the result as if the missing values were\n",
    "removed (`rm` stands for ReMoved) first."
   ]
  },
  {
   "cell_type": "code",
   "execution_count": null,
   "id": "dbe7bf10",
   "metadata": {},
   "outputs": [],
   "source": [
    "heights <- c(2, 4, 4, NA, 6)\n",
    "mean(heights)\n",
    "max(heights)\n",
    "mean(heights, na.rm = TRUE)\n",
    "max(heights, na.rm = TRUE)"
   ]
  },
  {
   "cell_type": "markdown",
   "id": "b3903950",
   "metadata": {},
   "source": [
    "If your data include missing values, you may want to become familiar\n",
    "with the functions `is.na()`, `na.omit()`, and `complete.cases()`. See\n",
    "below for examples."
   ]
  },
  {
   "cell_type": "code",
   "execution_count": null,
   "id": "9b8ad3c1",
   "metadata": {},
   "outputs": [],
   "source": [
    "## Extract those elements which are not missing values.\n",
    "heights[!is.na(heights)]\n",
    "\n",
    "## Returns the object with incomplete cases removed.\n",
    "#The returned object is an atomic vector of type `\"numeric\"` (or #`\"double\"`).\n",
    "na.omit(heights)\n",
    "\n",
    "## Extract those elements which are complete cases.\n",
    "#The returned object is an atomic vector of type `\"numeric\"` (or #`\"double\"`).\n",
    "heights[complete.cases(heights)]"
   ]
  },
  {
   "cell_type": "markdown",
   "id": "3b5501ae",
   "metadata": {},
   "source": [
    "### Challenge\n",
    "\n",
    "1.  Using this vector of heights in inches, create a new vector,\n",
    "    `heights_no_na`, with the `NAs` removed:\n",
    "\n",
    "    ```         \n",
    "    heights <- c(63, 69, 60, 65, NA, 68, 61, 70, 61, 59, 64, 69, 63, 63, NA, 72, 65, 64, 70, 63, 65)\n",
    "    ```\n",
    "\n",
    "2.  Use the function `median()` to calculate the median of the heights\n",
    "    vector.\n",
    "\n",
    "3.  Use R to figure out how many people in the set are taller than 67\n",
    "    inches.\n",
    "\n",
    "# `for` and `if`\n",
    "\n",
    "In R, `for` and `if` do not need an indent. Instead, you can use `{}` to\n",
    "use `for` and `if`. Here are simple examples:"
   ]
  },
  {
   "cell_type": "code",
   "execution_count": null,
   "id": "d1c7fa46",
   "metadata": {},
   "outputs": [],
   "source": [
    "# Create a for loop I\n",
    "for (i in 1:10) {\n",
    "    print(i)\n",
    "}"
   ]
  },
  {
   "cell_type": "code",
   "execution_count": null,
   "id": "23f2fd94",
   "metadata": {},
   "outputs": [],
   "source": [
    "# Create a for loop II\n",
    "for (i in 1:10) { print(i) }"
   ]
  },
  {
   "cell_type": "code",
   "execution_count": null,
   "id": "57311ce9",
   "metadata": {},
   "outputs": [],
   "source": [
    "# Create a for loop III (should be one line)\n",
    "for (i in 1:10) print(i)"
   ]
  },
  {
   "cell_type": "code",
   "execution_count": null,
   "id": "9ca6e118",
   "metadata": {},
   "outputs": [],
   "source": [
    "i <- 9\n",
    "\n",
    "# Create an if statement\n",
    "if (i %% 2 == 1) {\n",
    "    print(\"10 is odd\")\n",
    "}"
   ]
  },
  {
   "cell_type": "code",
   "execution_count": null,
   "id": "4b964eb0",
   "metadata": {},
   "outputs": [],
   "source": [
    "i <- 10\n",
    "\n",
    "# Create an if statement\n",
    "if (i %% 2 == 0) { print(paste(i, \"is even\")) }"
   ]
  },
  {
   "cell_type": "code",
   "execution_count": null,
   "id": "96222102",
   "metadata": {},
   "outputs": [],
   "source": [
    "i <- 9\n",
    "\n",
    "# Create an if statement\n",
    "if (i %% 2 != 0) print(paste(i, \"is odd\"))"
   ]
  },
  {
   "cell_type": "code",
   "execution_count": null,
   "id": "7ea60a0c",
   "metadata": {},
   "outputs": [],
   "source": [
    "# Slightly complicated example using for and if\n",
    "## Create a vector of numbers\n",
    "numbers <- c(1, 2, 3, 4, 5)\n",
    "\n",
    "## Create a for loop\n",
    "for (i in 1:length(numbers)) {\n",
    "  if (numbers[i] %% 2 == 0) {\n",
    "    print(paste(numbers[i], \"is even\"))\n",
    "  } else {\n",
    "    print(paste(numbers[i], \"is odd\"))\n",
    "  }\n",
    "}"
   ]
  }
 ],
 "metadata": {
  "jupytext": {
   "cell_metadata_filter": "-all",
   "main_language": "R",
   "notebook_metadata_filter": "-all"
  }
 },
 "nbformat": 4,
 "nbformat_minor": 5
}
